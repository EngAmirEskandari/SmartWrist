{
  "nbformat": 4,
  "nbformat_minor": 0,
  "metadata": {
    "colab": {
      "name": "Stock_prediction_2.ipynb",
      "provenance": [],
      "authorship_tag": "ABX9TyPq7BysIFktGqnkKBMYENFl",
      "include_colab_link": true
    },
    "kernelspec": {
      "name": "python3",
      "display_name": "Python 3"
    }
  },
  "cells": [
    {
      "cell_type": "markdown",
      "metadata": {
        "id": "view-in-github",
        "colab_type": "text"
      },
      "source": [
        "<a href=\"https://colab.research.google.com/github/EngAmirEskandari/SmartWrist/blob/master/Stock_prediction_2.ipynb\" target=\"_parent\"><img src=\"https://colab.research.google.com/assets/colab-badge.svg\" alt=\"Open In Colab\"/></a>"
      ]
    },
    {
      "cell_type": "markdown",
      "metadata": {
        "id": "eDz2duAYeB3j"
      },
      "source": [
        "Libarary adding"
      ]
    },
    {
      "cell_type": "code",
      "metadata": {
        "id": "l7dhV9bMcbB2"
      },
      "source": [
        "import math\r\n",
        "import numpy as np\r\n",
        "import pandas_datareader as web\r\n",
        "import pandas as pd\r\n",
        "from sklearn.preprocessing import MinMaxScaler\r\n",
        "from keras.models import Sequential\r\n",
        "from keras.layers import Dense, LSTM\r\n",
        "import matplotlib.pyplot as plt\r\n",
        "plt.style.use('fivethirtyeight')"
      ],
      "execution_count": null,
      "outputs": []
    },
    {
      "cell_type": "markdown",
      "metadata": {
        "id": "0GNgTr2vd_P8"
      },
      "source": [
        "Getting Data"
      ]
    },
    {
      "cell_type": "code",
      "metadata": {
        "colab": {
          "base_uri": "https://localhost:8080/",
          "height": 455
        },
        "id": "y2EblRQideuU",
        "outputId": "2da8f91c-73db-4d0d-b934-ca3bd6bac426"
      },
      "source": [
        "df = web.DataReader('BTC-USD', data_source='yahoo', start = '2012-01-01', end = '2021-02-12')\r\n",
        "df"
      ],
      "execution_count": null,
      "outputs": [
        {
          "output_type": "execute_result",
          "data": {
            "text/html": [
              "<div>\n",
              "<style scoped>\n",
              "    .dataframe tbody tr th:only-of-type {\n",
              "        vertical-align: middle;\n",
              "    }\n",
              "\n",
              "    .dataframe tbody tr th {\n",
              "        vertical-align: top;\n",
              "    }\n",
              "\n",
              "    .dataframe thead th {\n",
              "        text-align: right;\n",
              "    }\n",
              "</style>\n",
              "<table border=\"1\" class=\"dataframe\">\n",
              "  <thead>\n",
              "    <tr style=\"text-align: right;\">\n",
              "      <th></th>\n",
              "      <th>High</th>\n",
              "      <th>Low</th>\n",
              "      <th>Open</th>\n",
              "      <th>Close</th>\n",
              "      <th>Volume</th>\n",
              "      <th>Adj Close</th>\n",
              "    </tr>\n",
              "    <tr>\n",
              "      <th>Date</th>\n",
              "      <th></th>\n",
              "      <th></th>\n",
              "      <th></th>\n",
              "      <th></th>\n",
              "      <th></th>\n",
              "      <th></th>\n",
              "    </tr>\n",
              "  </thead>\n",
              "  <tbody>\n",
              "    <tr>\n",
              "      <th>2014-09-16</th>\n",
              "      <td>468.174011</td>\n",
              "      <td>452.421997</td>\n",
              "      <td>465.864014</td>\n",
              "      <td>457.334015</td>\n",
              "      <td>2.105680e+07</td>\n",
              "      <td>457.334015</td>\n",
              "    </tr>\n",
              "    <tr>\n",
              "      <th>2014-09-17</th>\n",
              "      <td>456.859985</td>\n",
              "      <td>413.104004</td>\n",
              "      <td>456.859985</td>\n",
              "      <td>424.440002</td>\n",
              "      <td>3.448320e+07</td>\n",
              "      <td>424.440002</td>\n",
              "    </tr>\n",
              "    <tr>\n",
              "      <th>2014-09-18</th>\n",
              "      <td>427.834991</td>\n",
              "      <td>384.532013</td>\n",
              "      <td>424.102997</td>\n",
              "      <td>394.795990</td>\n",
              "      <td>3.791970e+07</td>\n",
              "      <td>394.795990</td>\n",
              "    </tr>\n",
              "    <tr>\n",
              "      <th>2014-09-19</th>\n",
              "      <td>423.295990</td>\n",
              "      <td>389.882996</td>\n",
              "      <td>394.673004</td>\n",
              "      <td>408.903992</td>\n",
              "      <td>3.686360e+07</td>\n",
              "      <td>408.903992</td>\n",
              "    </tr>\n",
              "    <tr>\n",
              "      <th>2014-09-20</th>\n",
              "      <td>412.425995</td>\n",
              "      <td>393.181000</td>\n",
              "      <td>408.084991</td>\n",
              "      <td>398.821014</td>\n",
              "      <td>2.658010e+07</td>\n",
              "      <td>398.821014</td>\n",
              "    </tr>\n",
              "    <tr>\n",
              "      <th>...</th>\n",
              "      <td>...</td>\n",
              "      <td>...</td>\n",
              "      <td>...</td>\n",
              "      <td>...</td>\n",
              "      <td>...</td>\n",
              "      <td>...</td>\n",
              "    </tr>\n",
              "    <tr>\n",
              "      <th>2021-02-08</th>\n",
              "      <td>46203.929688</td>\n",
              "      <td>38076.324219</td>\n",
              "      <td>38886.828125</td>\n",
              "      <td>46196.464844</td>\n",
              "      <td>1.014672e+11</td>\n",
              "      <td>46196.464844</td>\n",
              "    </tr>\n",
              "    <tr>\n",
              "      <th>2021-02-09</th>\n",
              "      <td>48003.722656</td>\n",
              "      <td>45166.960938</td>\n",
              "      <td>46184.992188</td>\n",
              "      <td>46481.105469</td>\n",
              "      <td>9.180985e+10</td>\n",
              "      <td>46481.105469</td>\n",
              "    </tr>\n",
              "    <tr>\n",
              "      <th>2021-02-10</th>\n",
              "      <td>47145.566406</td>\n",
              "      <td>43881.152344</td>\n",
              "      <td>46469.761719</td>\n",
              "      <td>44918.183594</td>\n",
              "      <td>8.730109e+10</td>\n",
              "      <td>44918.183594</td>\n",
              "    </tr>\n",
              "    <tr>\n",
              "      <th>2021-02-11</th>\n",
              "      <td>48463.468750</td>\n",
              "      <td>44187.761719</td>\n",
              "      <td>44898.710938</td>\n",
              "      <td>47909.332031</td>\n",
              "      <td>8.138891e+10</td>\n",
              "      <td>47909.332031</td>\n",
              "    </tr>\n",
              "    <tr>\n",
              "      <th>2021-02-12</th>\n",
              "      <td>48700.082031</td>\n",
              "      <td>46424.976562</td>\n",
              "      <td>47852.500000</td>\n",
              "      <td>47724.710938</td>\n",
              "      <td>7.890751e+10</td>\n",
              "      <td>47724.710938</td>\n",
              "    </tr>\n",
              "  </tbody>\n",
              "</table>\n",
              "<p>2337 rows × 6 columns</p>\n",
              "</div>"
            ],
            "text/plain": [
              "                    High           Low  ...        Volume     Adj Close\n",
              "Date                                    ...                            \n",
              "2014-09-16    468.174011    452.421997  ...  2.105680e+07    457.334015\n",
              "2014-09-17    456.859985    413.104004  ...  3.448320e+07    424.440002\n",
              "2014-09-18    427.834991    384.532013  ...  3.791970e+07    394.795990\n",
              "2014-09-19    423.295990    389.882996  ...  3.686360e+07    408.903992\n",
              "2014-09-20    412.425995    393.181000  ...  2.658010e+07    398.821014\n",
              "...                  ...           ...  ...           ...           ...\n",
              "2021-02-08  46203.929688  38076.324219  ...  1.014672e+11  46196.464844\n",
              "2021-02-09  48003.722656  45166.960938  ...  9.180985e+10  46481.105469\n",
              "2021-02-10  47145.566406  43881.152344  ...  8.730109e+10  44918.183594\n",
              "2021-02-11  48463.468750  44187.761719  ...  8.138891e+10  47909.332031\n",
              "2021-02-12  48700.082031  46424.976562  ...  7.890751e+10  47724.710938\n",
              "\n",
              "[2337 rows x 6 columns]"
            ]
          },
          "metadata": {
            "tags": []
          },
          "execution_count": 112
        }
      ]
    },
    {
      "cell_type": "markdown",
      "metadata": {
        "id": "E7BAz5kceQOa"
      },
      "source": [
        "Visualize the closing price history"
      ]
    },
    {
      "cell_type": "code",
      "metadata": {
        "colab": {
          "base_uri": "https://localhost:8080/",
          "height": 558
        },
        "id": "lSgPTHzXd-cs",
        "outputId": "9dc65232-0d88-468f-8a05-22501906ae7a"
      },
      "source": [
        "plt.figure(figsize=(16,8))\r\n",
        "plt.title('Close Price History')\r\n",
        "plt.plot(df['Close'])\r\n",
        "plt.xlabel('Data', fontsize = 18)\r\n",
        "plt.ylabel('Close Price USD ($)',fontsize = 18)\r\n",
        "plt.show()"
      ],
      "execution_count": null,
      "outputs": [
        {
          "output_type": "display_data",
          "data": {
            "image/png": "[encoded data removed]",
            "text/plain": [
              "<Figure size 1152x576 with 1 Axes>"
            ]
          },
          "metadata": {
            "tags": []
          }
        }
      ]
    },
    {
      "cell_type": "markdown",
      "metadata": {
        "id": "gYordZI3fL3E"
      },
      "source": [
        "Data just with close column"
      ]
    },
    {
      "cell_type": "code",
      "metadata": {
        "colab": {
          "base_uri": "https://localhost:8080/"
        },
        "id": "Q01LMXuVe06s",
        "outputId": "7af0ba65-0101-472d-b7ab-bdab3c0a53ba"
      },
      "source": [
        "data = df.filter(['Close'])\r\n",
        "dataset = data.values\r\n",
        "training_data_len = math.ceil(len(dataset)* .95)\r\n",
        "training_data_len"
      ],
      "execution_count": null,
      "outputs": [
        {
          "output_type": "execute_result",
          "data": {
            "text/plain": [
              "2221"
            ]
          },
          "metadata": {
            "tags": []
          },
          "execution_count": 114
        }
      ]
    },
    {
      "cell_type": "markdown",
      "metadata": {
        "id": "DZCvCdCtfo6q"
      },
      "source": [
        "Scale Data"
      ]
    },
    {
      "cell_type": "code",
      "metadata": {
        "colab": {
          "base_uri": "https://localhost:8080/"
        },
        "id": "mAIJYQK5fn4A",
        "outputId": "f058e27f-311e-42c4-c723-541f6d98895a"
      },
      "source": [
        "scaler = MinMaxScaler (feature_range=(0,1))\r\n",
        "slaced_data = scaler.fit_transform(dataset) \r\n",
        "\r\n",
        "slaced_data"
      ],
      "execution_count": null,
      "outputs": [
        {
          "output_type": "execute_result",
          "data": {
            "text/plain": [
              "array([[0.00585007],\n",
              "       [0.00516092],\n",
              "       [0.00453986],\n",
              "       ...,\n",
              "       [0.93733351],\n",
              "       [1.        ],\n",
              "       [0.99613207]])"
            ]
          },
          "metadata": {
            "tags": []
          },
          "execution_count": 115
        }
      ]
    },
    {
      "cell_type": "markdown",
      "metadata": {
        "id": "QTZvBG8JgGzj"
      },
      "source": [
        "Create training data set\r\n",
        "Creat the scaled trianing data set\r\n"
      ]
    },
    {
      "cell_type": "code",
      "metadata": {
        "id": "WL2qBJHxgOni"
      },
      "source": [
        "train_data = slaced_data[0:training_data_len, :]\r\n",
        "\r\n",
        "x_train = []\r\n",
        "y_train = []\r\n",
        "\r\n",
        "for i in range(60,len(train_data)):\r\n",
        "  x_train.append(train_data[i-60:i,0])\r\n",
        "  y_train.append(train_data[i,0])"
      ],
      "execution_count": null,
      "outputs": []
    },
    {
      "cell_type": "markdown",
      "metadata": {
        "id": "Lvxod7MRhxvb"
      },
      "source": [
        "Conver the x_train and y_train to numpy arrays"
      ]
    },
    {
      "cell_type": "code",
      "metadata": {
        "id": "t53HLKfGhxRq"
      },
      "source": [
        "x_train , y_train = np.array(x_train), np.array(y_train)"
      ],
      "execution_count": null,
      "outputs": []
    },
    {
      "cell_type": "markdown",
      "metadata": {
        "id": "TyPBGNJmiDf8"
      },
      "source": [
        "Reshape for LSTM"
      ]
    },
    {
      "cell_type": "code",
      "metadata": {
        "colab": {
          "base_uri": "https://localhost:8080/"
        },
        "id": "3hBdBbLFhbK6",
        "outputId": "dd9cb159-cfdf-4933-a275-2ca74eb7a515"
      },
      "source": [
        "x_train = np.reshape(x_train,(x_train.shape[0],x_train.shape[1],1))\r\n",
        "x_train.shape"
      ],
      "execution_count": null,
      "outputs": [
        {
          "output_type": "execute_result",
          "data": {
            "text/plain": [
              "(2161, 60, 1)"
            ]
          },
          "metadata": {
            "tags": []
          },
          "execution_count": 118
        }
      ]
    },
    {
      "cell_type": "markdown",
      "metadata": {
        "id": "ieUDnibJidMq"
      },
      "source": [
        "Build the LSTM model\r\n"
      ]
    },
    {
      "cell_type": "code",
      "metadata": {
        "id": "S_NtahR5ihhk"
      },
      "source": [
        "model = Sequential()\r\n",
        "model.add(LSTM(50, return_sequences=True, input_shape=(x_train.shape[1], 1)))\r\n",
        "model.add(LSTM(50, return_sequences=False))\r\n",
        "model.add(Dense(25))\r\n",
        "model.add(Dense(1))"
      ],
      "execution_count": null,
      "outputs": []
    },
    {
      "cell_type": "markdown",
      "metadata": {
        "id": "jHjqP8g4kHki"
      },
      "source": [
        "compile the model"
      ]
    },
    {
      "cell_type": "code",
      "metadata": {
        "id": "jUkSQF-pkHDk"
      },
      "source": [
        "model.compile(optimizer='adam', loss = 'mean_squared_error')\r\n"
      ],
      "execution_count": null,
      "outputs": []
    },
    {
      "cell_type": "markdown",
      "metadata": {
        "id": "I0yeLJoJkXsS"
      },
      "source": [
        "Trian THE model"
      ]
    },
    {
      "cell_type": "code",
      "metadata": {
        "colab": {
          "base_uri": "https://localhost:8080/"
        },
        "id": "ic7a6cf9kbfo",
        "outputId": "bf27065e-ed7e-457c-8154-1463fef77cc6"
      },
      "source": [
        "model.fit(x_train, y_train, batch_size=32,epochs=100)"
      ],
      "execution_count": null,
      "outputs": [
        {
          "output_type": "stream",
          "text": [
            "Epoch 1/100\n",
            "68/68 [==============================] - 7s 52ms/step - loss: 0.0024\n",
            "Epoch 2/100\n",
            "68/68 [==============================] - 4s 54ms/step - loss: 2.0041e-04\n",
            "Epoch 3/100\n",
            "68/68 [==============================] - 4s 58ms/step - loss: 1.8440e-04\n",
            "Epoch 4/100\n",
            "68/68 [==============================] - 5s 66ms/step - loss: 1.6508e-04\n",
            "Epoch 5/100\n",
            "68/68 [==============================] - 5s 66ms/step - loss: 1.7964e-04\n",
            "Epoch 6/100\n",
            "68/68 [==============================] - 4s 62ms/step - loss: 1.1035e-04\n",
            "Epoch 7/100\n",
            "68/68 [==============================] - 4s 59ms/step - loss: 1.3945e-04\n",
            "Epoch 8/100\n",
            "68/68 [==============================] - 4s 54ms/step - loss: 9.7325e-05\n",
            "Epoch 9/100\n",
            "68/68 [==============================] - 4s 58ms/step - loss: 1.1179e-04\n",
            "Epoch 10/100\n",
            "68/68 [==============================] - 4s 55ms/step - loss: 8.6674e-05\n",
            "Epoch 11/100\n",
            "68/68 [==============================] - 4s 60ms/step - loss: 1.0290e-04\n",
            "Epoch 12/100\n",
            "68/68 [==============================] - 5s 65ms/step - loss: 1.1481e-04\n",
            "Epoch 13/100\n",
            "68/68 [==============================] - 4s 55ms/step - loss: 9.1722e-05\n",
            "Epoch 14/100\n",
            "68/68 [==============================] - 4s 58ms/step - loss: 8.5538e-05\n",
            "Epoch 15/100\n",
            "68/68 [==============================] - 4s 54ms/step - loss: 9.8374e-05\n",
            "Epoch 16/100\n",
            "68/68 [==============================] - 4s 56ms/step - loss: 8.2964e-05\n",
            "Epoch 17/100\n",
            "68/68 [==============================] - 4s 55ms/step - loss: 9.0156e-05\n",
            "Epoch 18/100\n",
            "68/68 [==============================] - 4s 55ms/step - loss: 8.7610e-05\n",
            "Epoch 19/100\n",
            "68/68 [==============================] - 4s 55ms/step - loss: 9.1669e-05\n",
            "Epoch 20/100\n",
            "68/68 [==============================] - 4s 55ms/step - loss: 6.7603e-05\n",
            "Epoch 21/100\n",
            "68/68 [==============================] - 4s 56ms/step - loss: 6.5811e-05\n",
            "Epoch 22/100\n",
            "68/68 [==============================] - 4s 55ms/step - loss: 6.0466e-05\n",
            "Epoch 23/100\n",
            "68/68 [==============================] - 4s 54ms/step - loss: 5.6267e-05\n",
            "Epoch 24/100\n",
            "68/68 [==============================] - 4s 55ms/step - loss: 5.3452e-05\n",
            "Epoch 25/100\n",
            "68/68 [==============================] - 4s 56ms/step - loss: 5.0558e-05\n",
            "Epoch 26/100\n",
            "68/68 [==============================] - 4s 57ms/step - loss: 4.9865e-05\n",
            "Epoch 27/100\n",
            "68/68 [==============================] - 4s 54ms/step - loss: 5.6689e-05\n",
            "Epoch 28/100\n",
            "68/68 [==============================] - 4s 54ms/step - loss: 5.3119e-05\n",
            "Epoch 29/100\n",
            "68/68 [==============================] - 4s 66ms/step - loss: 6.0377e-05\n",
            "Epoch 30/100\n",
            "68/68 [==============================] - 4s 58ms/step - loss: 5.4019e-05\n",
            "Epoch 31/100\n",
            "68/68 [==============================] - 4s 56ms/step - loss: 6.5049e-05\n",
            "Epoch 32/100\n",
            "68/68 [==============================] - 4s 56ms/step - loss: 6.6558e-05\n",
            "Epoch 33/100\n",
            "68/68 [==============================] - 4s 58ms/step - loss: 4.8022e-05\n",
            "Epoch 34/100\n",
            "68/68 [==============================] - 4s 55ms/step - loss: 4.6540e-05\n",
            "Epoch 35/100\n",
            "68/68 [==============================] - 4s 58ms/step - loss: 6.2254e-05\n",
            "Epoch 36/100\n",
            "68/68 [==============================] - 4s 55ms/step - loss: 5.5946e-05\n",
            "Epoch 37/100\n",
            "68/68 [==============================] - 4s 57ms/step - loss: 5.4415e-05\n",
            "Epoch 38/100\n",
            "68/68 [==============================] - 5s 67ms/step - loss: 4.8307e-05\n",
            "Epoch 39/100\n",
            "68/68 [==============================] - 4s 58ms/step - loss: 3.8576e-05\n",
            "Epoch 40/100\n",
            "68/68 [==============================] - 4s 57ms/step - loss: 4.1126e-05\n",
            "Epoch 41/100\n",
            "68/68 [==============================] - 4s 58ms/step - loss: 4.5551e-05\n",
            "Epoch 42/100\n",
            "68/68 [==============================] - 4s 57ms/step - loss: 4.2204e-05\n",
            "Epoch 43/100\n",
            "68/68 [==============================] - 4s 57ms/step - loss: 4.4077e-05\n",
            "Epoch 44/100\n",
            "68/68 [==============================] - 4s 56ms/step - loss: 4.0281e-05\n",
            "Epoch 45/100\n",
            "68/68 [==============================] - 4s 55ms/step - loss: 4.2177e-05\n",
            "Epoch 46/100\n",
            "68/68 [==============================] - 4s 55ms/step - loss: 5.6955e-05\n",
            "Epoch 47/100\n",
            "68/68 [==============================] - 4s 55ms/step - loss: 5.8350e-05\n",
            "Epoch 48/100\n",
            "68/68 [==============================] - 4s 56ms/step - loss: 4.7716e-05\n",
            "Epoch 49/100\n",
            "68/68 [==============================] - 4s 55ms/step - loss: 4.2702e-05\n",
            "Epoch 50/100\n",
            "68/68 [==============================] - 4s 57ms/step - loss: 3.7353e-05\n",
            "Epoch 51/100\n",
            "68/68 [==============================] - 4s 55ms/step - loss: 5.2891e-05\n",
            "Epoch 52/100\n",
            "68/68 [==============================] - 4s 56ms/step - loss: 4.3155e-05\n",
            "Epoch 53/100\n",
            "68/68 [==============================] - 5s 70ms/step - loss: 3.8118e-05\n",
            "Epoch 54/100\n",
            "68/68 [==============================] - 4s 58ms/step - loss: 5.1460e-05\n",
            "Epoch 55/100\n",
            "68/68 [==============================] - 4s 56ms/step - loss: 4.1970e-05\n",
            "Epoch 56/100\n",
            "68/68 [==============================] - 4s 55ms/step - loss: 4.9505e-05\n",
            "Epoch 57/100\n",
            "68/68 [==============================] - 4s 56ms/step - loss: 5.0255e-05\n",
            "Epoch 58/100\n",
            "68/68 [==============================] - 4s 55ms/step - loss: 3.8193e-05\n",
            "Epoch 59/100\n",
            "68/68 [==============================] - 4s 56ms/step - loss: 4.9937e-05\n",
            "Epoch 60/100\n",
            "68/68 [==============================] - 4s 55ms/step - loss: 4.3865e-05\n",
            "Epoch 61/100\n",
            "68/68 [==============================] - 4s 61ms/step - loss: 4.9710e-05\n",
            "Epoch 62/100\n",
            "68/68 [==============================] - 4s 64ms/step - loss: 4.5093e-05\n",
            "Epoch 63/100\n",
            "68/68 [==============================] - 4s 59ms/step - loss: 4.9947e-05\n",
            "Epoch 64/100\n",
            "68/68 [==============================] - 5s 71ms/step - loss: 3.3497e-05\n",
            "Epoch 65/100\n",
            "68/68 [==============================] - 4s 59ms/step - loss: 5.4174e-05\n",
            "Epoch 66/100\n",
            "68/68 [==============================] - 4s 57ms/step - loss: 3.8893e-05\n",
            "Epoch 67/100\n",
            "68/68 [==============================] - 4s 57ms/step - loss: 5.2124e-05\n",
            "Epoch 68/100\n",
            "68/68 [==============================] - 4s 57ms/step - loss: 4.3152e-05\n",
            "Epoch 69/100\n",
            "68/68 [==============================] - 4s 56ms/step - loss: 3.8372e-05\n",
            "Epoch 70/100\n",
            "68/68 [==============================] - 4s 57ms/step - loss: 4.0892e-05\n",
            "Epoch 71/100\n",
            "68/68 [==============================] - 4s 57ms/step - loss: 3.5149e-05\n",
            "Epoch 72/100\n",
            "68/68 [==============================] - 4s 56ms/step - loss: 4.8517e-05\n",
            "Epoch 73/100\n",
            "68/68 [==============================] - 5s 73ms/step - loss: 5.4265e-05\n",
            "Epoch 74/100\n",
            "68/68 [==============================] - 4s 58ms/step - loss: 4.3736e-05\n",
            "Epoch 75/100\n",
            "68/68 [==============================] - 4s 59ms/step - loss: 5.3352e-05\n",
            "Epoch 76/100\n",
            "68/68 [==============================] - 4s 57ms/step - loss: 3.0350e-05\n",
            "Epoch 77/100\n",
            "68/68 [==============================] - 4s 57ms/step - loss: 4.4762e-05\n",
            "Epoch 78/100\n",
            "68/68 [==============================] - 4s 57ms/step - loss: 4.6118e-05\n",
            "Epoch 79/100\n",
            "68/68 [==============================] - 4s 57ms/step - loss: 5.2794e-05\n",
            "Epoch 80/100\n",
            "68/68 [==============================] - 5s 68ms/step - loss: 5.8535e-05\n",
            "Epoch 81/100\n",
            "68/68 [==============================] - 4s 58ms/step - loss: 3.8412e-05\n",
            "Epoch 82/100\n",
            "68/68 [==============================] - 4s 60ms/step - loss: 4.0602e-05\n",
            "Epoch 83/100\n",
            "68/68 [==============================] - 4s 58ms/step - loss: 5.4818e-05\n",
            "Epoch 84/100\n",
            "68/68 [==============================] - 4s 63ms/step - loss: 5.1465e-05\n",
            "Epoch 85/100\n",
            "68/68 [==============================] - 4s 61ms/step - loss: 4.3797e-05\n",
            "Epoch 86/100\n",
            "68/68 [==============================] - 4s 59ms/step - loss: 4.0932e-05\n",
            "Epoch 87/100\n",
            "68/68 [==============================] - 4s 56ms/step - loss: 4.2217e-05\n",
            "Epoch 88/100\n",
            "68/68 [==============================] - 4s 56ms/step - loss: 5.3135e-05\n",
            "Epoch 89/100\n",
            "68/68 [==============================] - 4s 56ms/step - loss: 4.5175e-05\n",
            "Epoch 90/100\n",
            "68/68 [==============================] - 4s 56ms/step - loss: 4.1123e-05\n",
            "Epoch 91/100\n",
            "68/68 [==============================] - 4s 57ms/step - loss: 4.2918e-05\n",
            "Epoch 92/100\n",
            "68/68 [==============================] - 4s 56ms/step - loss: 3.3553e-05\n",
            "Epoch 93/100\n",
            "68/68 [==============================] - 5s 70ms/step - loss: 4.5946e-05\n",
            "Epoch 94/100\n",
            "68/68 [==============================] - 4s 60ms/step - loss: 4.4229e-05\n",
            "Epoch 95/100\n",
            "68/68 [==============================] - 5s 72ms/step - loss: 4.6563e-05\n",
            "Epoch 96/100\n",
            "68/68 [==============================] - 4s 58ms/step - loss: 3.6777e-05\n",
            "Epoch 97/100\n",
            "68/68 [==============================] - 4s 58ms/step - loss: 3.8916e-05\n",
            "Epoch 98/100\n",
            "68/68 [==============================] - 4s 56ms/step - loss: 3.2779e-05\n",
            "Epoch 99/100\n",
            "68/68 [==============================] - 4s 59ms/step - loss: 4.1227e-05\n",
            "Epoch 100/100\n",
            "68/68 [==============================] - 4s 56ms/step - loss: 3.4890e-05\n"
          ],
          "name": "stdout"
        },
        {
          "output_type": "execute_result",
          "data": {
            "text/plain": [
              "<tensorflow.python.keras.callbacks.History at 0x7f119698f128>"
            ]
          },
          "metadata": {
            "tags": []
          },
          "execution_count": 121
        }
      ]
    },
    {
      "cell_type": "markdown",
      "metadata": {
        "id": "y9179j9jk05j"
      },
      "source": [
        "Create testing data set"
      ]
    },
    {
      "cell_type": "code",
      "metadata": {
        "id": "rX0-IGvMk0Ra"
      },
      "source": [
        "test_data = slaced_data[training_data_len:, :]\r\n",
        "x_test = []\r\n",
        "y_test = dataset[training_data_len: ,:]\r\n",
        "for i in range(60, len(test_data)):\r\n",
        "  x_test.append(test_data[i-60:i,0])\r\n",
        "\r\n"
      ],
      "execution_count": null,
      "outputs": []
    },
    {
      "cell_type": "code",
      "metadata": {
        "id": "6oU07CTjJqQA"
      },
      "source": [
        "## I made i\r\n",
        "test_data = slaced_data[training_data_len:training_data_len+60, :]\r\n",
        "x_test = []\r\n",
        "y_test = dataset[training_data_len: ,:]\r\n",
        "actually_predict = np.zeros(60)\r\n",
        "x_test = np.reshape(test_data,(1,60,1))\r\n",
        "for i in range(60):\r\n",
        "  a = model.predict(x_test)\r\n",
        "  actually_predict[i] = scaler.inverse_transform(a)\r\n",
        "  for j in range(59):\r\n",
        "    x_test[0][j][0] = x_test[0][j+1][0]\r\n",
        "    x_test[0][59][0] = a\r\n"
      ],
      "execution_count": null,
      "outputs": []
    },
    {
      "cell_type": "code",
      "metadata": {
        "colab": {
          "base_uri": "https://localhost:8080/"
        },
        "id": "Tw3doX1AO7p5",
        "outputId": "31023de9-91e7-4d17-89f2-c9ca8c3baaf7"
      },
      "source": [
        "actually_predict"
      ],
      "execution_count": null,
      "outputs": [
        {
          "output_type": "execute_result",
          "data": {
            "text/plain": [
              "array([21913.69335938, 20866.37890625, 19892.48632812, 19011.2109375 ,\n",
              "       18189.09179688, 17417.08789062, 16686.56640625, 15994.68164062,\n",
              "       15340.03125   , 14722.06835938, 14140.21484375, 13593.63769531,\n",
              "       13081.15820312, 12601.31738281, 12152.453125  , 11732.79101562,\n",
              "       11340.52148438, 10973.85253906, 10631.0546875 , 10310.47949219,\n",
              "       10010.57519531,  9729.89453125,  9467.08984375,  9220.91601562,\n",
              "        8990.21972656,  8773.93261719,  8571.06933594,  8380.71679688,\n",
              "        8202.03515625,  8034.23632812,  7876.59814453,  7728.44482422,\n",
              "        7589.14990234,  7458.13378906,  7334.85595703,  7218.81152344,\n",
              "        7109.53417969,  7006.58642578,  6909.56201172,  6818.08154297,\n",
              "        6731.79492188,  6650.37304688,  6573.51025391,  6500.92333984,\n",
              "        6432.34521484,  6367.53076172,  6306.24707031,  6248.28173828,\n",
              "        6193.43066406,  6141.51074219,  6092.34619141,  6045.77197266,\n",
              "        6001.63916016,  5959.80419922,  5920.13378906,  5882.50488281,\n",
              "        5846.79931641,  5812.90966797,  5780.73486328,  5750.17871094])"
            ]
          },
          "metadata": {
            "tags": []
          },
          "execution_count": 123
        }
      ]
    },
    {
      "cell_type": "code",
      "metadata": {
        "colab": {
          "base_uri": "https://localhost:8080/"
        },
        "id": "MVo5nBYLU_tP",
        "outputId": "f7cf1143-7b3b-4d15-edb6-60f96e3a67d0"
      },
      "source": [
        "y_test"
      ],
      "execution_count": null,
      "outputs": [
        {
          "output_type": "execute_result",
          "data": {
            "text/plain": [
              "array([[11916.33496094],\n",
              "       [12823.68945312],\n",
              "       [12965.89160156],\n",
              "       [12931.5390625 ],\n",
              "       [13108.0625    ],\n",
              "       [13031.17382812],\n",
              "       [13075.24804688],\n",
              "       [13654.21875   ],\n",
              "       [13271.28515625],\n",
              "       [13437.8828125 ],\n",
              "       [13546.52246094],\n",
              "       [13780.99511719],\n",
              "       [13737.109375  ],\n",
              "       [13550.48925781],\n",
              "       [13950.30078125],\n",
              "       [14133.70703125],\n",
              "       [15579.84863281],\n",
              "       [15565.88085938],\n",
              "       [14833.75390625],\n",
              "       [15479.56738281],\n",
              "       [15332.31542969],\n",
              "       [15290.90234375],\n",
              "       [15701.33984375],\n",
              "       [16276.34375   ],\n",
              "       [16317.80859375],\n",
              "       [16068.13867188],\n",
              "       [15955.58789062],\n",
              "       [16716.11132812],\n",
              "       [17645.40625   ],\n",
              "       [17804.00585938],\n",
              "       [17817.08984375],\n",
              "       [18621.31445312],\n",
              "       [18642.23242188],\n",
              "       [18370.00195312],\n",
              "       [18364.12109375],\n",
              "       [19107.46484375],\n",
              "       [18732.12109375],\n",
              "       [17150.62304688],\n",
              "       [17108.40234375],\n",
              "       [17717.4140625 ],\n",
              "       [18177.484375  ],\n",
              "       [19625.8359375 ],\n",
              "       [18802.99804688],\n",
              "       [19201.09179688],\n",
              "       [19445.3984375 ],\n",
              "       [18699.765625  ],\n",
              "       [19154.23046875],\n",
              "       [19345.12109375],\n",
              "       [19191.63085938],\n",
              "       [18321.14453125],\n",
              "       [18553.91601562],\n",
              "       [18264.9921875 ],\n",
              "       [18058.90429688],\n",
              "       [18803.65625   ],\n",
              "       [19142.3828125 ],\n",
              "       [19246.64453125],\n",
              "       [19417.07617188],\n",
              "       [21310.59765625],\n",
              "       [22805.16210938],\n",
              "       [23137.9609375 ],\n",
              "       [23869.83203125],\n",
              "       [23477.29492188],\n",
              "       [22803.08203125],\n",
              "       [23783.02929688],\n",
              "       [23241.34570312],\n",
              "       [23735.94921875],\n",
              "       [24664.79101562],\n",
              "       [26437.03710938],\n",
              "       [26272.29492188],\n",
              "       [27084.80859375],\n",
              "       [27362.4375    ],\n",
              "       [28840.953125  ],\n",
              "       [29001.72070312],\n",
              "       [29374.15234375],\n",
              "       [32127.26757812],\n",
              "       [32782.0234375 ],\n",
              "       [31971.9140625 ],\n",
              "       [33992.4296875 ],\n",
              "       [36824.36328125],\n",
              "       [39371.04296875],\n",
              "       [40797.609375  ],\n",
              "       [40254.546875  ],\n",
              "       [38356.44140625],\n",
              "       [35566.65625   ],\n",
              "       [33922.9609375 ],\n",
              "       [37316.359375  ],\n",
              "       [39187.328125  ],\n",
              "       [36825.3671875 ],\n",
              "       [36178.140625  ],\n",
              "       [35791.27734375],\n",
              "       [36630.07421875],\n",
              "       [36069.8046875 ],\n",
              "       [35547.75      ],\n",
              "       [30825.69921875],\n",
              "       [33005.76171875],\n",
              "       [32067.64257812],\n",
              "       [32289.37890625],\n",
              "       [32366.39257812],\n",
              "       [32569.84960938],\n",
              "       [30432.546875  ],\n",
              "       [31649.60546875],\n",
              "       [34316.38671875],\n",
              "       [34269.5234375 ],\n",
              "       [33114.359375  ],\n",
              "       [33537.17578125],\n",
              "       [35510.2890625 ],\n",
              "       [37472.08984375],\n",
              "       [36926.06640625],\n",
              "       [38144.30859375],\n",
              "       [39266.01171875],\n",
              "       [38903.44140625],\n",
              "       [46196.46484375],\n",
              "       [46481.10546875],\n",
              "       [44918.18359375],\n",
              "       [47909.33203125],\n",
              "       [47724.7109375 ]])"
            ]
          },
          "metadata": {
            "tags": []
          },
          "execution_count": 125
        }
      ]
    },
    {
      "cell_type": "code",
      "metadata": {
        "colab": {
          "base_uri": "https://localhost:8080/",
          "height": 558
        },
        "id": "bstF_0nNO6rn",
        "outputId": "124c8aa2-ad8f-4594-e7ee-67f9ae959e71"
      },
      "source": [
        "plt.figure(figsize=(16,8))\r\n",
        "plt.title('Model')\r\n",
        "plt.xlabel('Data', fontsize = 18)\r\n",
        "plt.ylabel('Close Price USD ($)',fontsize = 18)\r\n",
        "plt.plot(actually_predict)\r\n",
        "plt.xlim((-100,100))\r\n",
        "plt.ylim((0,120))\r\n",
        "#plt.plot(valid[['Close', 'Predictions']])\r\n",
        "#plt.legend(['Train','Val','Predict'],loc ='lpwer right' )\r\n",
        "plt.show()"
      ],
      "execution_count": null,
      "outputs": [
        {
          "output_type": "display_data",
          "data": {
            "image/png": "[encoded data removed]",
            "text/plain": [
              "<Figure size 1152x576 with 1 Axes>"
            ]
          },
          "metadata": {
            "tags": []
          }
        }
      ]
    },
    {
      "cell_type": "code",
      "metadata": {
        "id": "lQMhl4B-sxAp"
      },
      "source": [
        "test_data_1 = slaced_data[training_data_len - 60:training_data_len , :]\r\n",
        "x_test = []\r\n",
        "y_test = dataset[training_data_len: ,:]\r\n",
        "x_test.append(test_data_1[:,0])\r\n",
        "\r\n",
        "for i in range(60, len(test_data)):\r\n",
        "  x_test = np.array(x_test)\r\n",
        "  x_test = np.reshape(x_test, (x_test.shape[0], x_test.shape[1],1))\r\n"
      ],
      "execution_count": null,
      "outputs": []
    },
    {
      "cell_type": "markdown",
      "metadata": {
        "id": "CS_6FkwslOJq"
      },
      "source": [
        "Convert data to numpy array"
      ]
    },
    {
      "cell_type": "code",
      "metadata": {
        "id": "1OreTzvylztp"
      },
      "source": [
        "x_test = np.array(x_test)"
      ],
      "execution_count": null,
      "outputs": []
    },
    {
      "cell_type": "code",
      "metadata": {
        "id": "g9yo9QRMl4_B"
      },
      "source": [
        "x_test = np.reshape(x_test, (x_test.shape[0], x_test.shape[1],1))\r\n"
      ],
      "execution_count": null,
      "outputs": []
    },
    {
      "cell_type": "markdown",
      "metadata": {
        "id": "T6qb9kBSmZ30"
      },
      "source": [
        "Get pridected value"
      ]
    },
    {
      "cell_type": "code",
      "metadata": {
        "id": "CJQGPTKzmYHs"
      },
      "source": [
        "\r\n",
        "predi = model.predict(x_test)\r\n",
        "predi = scaler.inverse_transform(predi)\r\n",
        "\r\n"
      ],
      "execution_count": null,
      "outputs": []
    },
    {
      "cell_type": "markdown",
      "metadata": {
        "id": "1a0CAtHJmw_x"
      },
      "source": [
        "RMSE ERROE"
      ]
    },
    {
      "cell_type": "code",
      "metadata": {
        "colab": {
          "base_uri": "https://localhost:8080/"
        },
        "id": "EJ4uyl8jmzXQ",
        "outputId": "1d76d833-dfca-4992-c7fe-1802f2297b61"
      },
      "source": [
        "rmse=np.sqrt(np.mean(((predi- y_test)**2)))\r\n",
        "rmse"
      ],
      "execution_count": null,
      "outputs": [
        {
          "output_type": "execute_result",
          "data": {
            "text/plain": [
              "42.83664080963128"
            ]
          },
          "metadata": {
            "tags": []
          },
          "execution_count": 25
        }
      ]
    },
    {
      "cell_type": "markdown",
      "metadata": {
        "id": "a-NAg5ZCndrB"
      },
      "source": [
        "plot the data"
      ]
    },
    {
      "cell_type": "markdown",
      "metadata": {
        "id": "rlSO-brMntiC"
      },
      "source": [
        "Visualizing data"
      ]
    },
    {
      "cell_type": "code",
      "metadata": {
        "colab": {
          "base_uri": "https://localhost:8080/",
          "height": 792
        },
        "id": "qRGDtqvsnv9Z",
        "outputId": "c15832d3-4f23-484b-d7e3-9d6a4e5334c2"
      },
      "source": [
        "plt.figure(figsize=(16,8))\r\n",
        "plt.title('Model')\r\n",
        "plt.xlabel('Data', fontsize = 18)\r\n",
        "plt.ylabel('Close Price USD ($)',fontsize = 18)\r\n",
        "plt.plot(train['Close'])\r\n",
        "plt.plot(valid[['Close', 'Predictions']])\r\n",
        "plt.legend(['Train','Val','Predict'],loc ='lpwer right' )\r\n",
        "plt.show()"
      ],
      "execution_count": null,
      "outputs": [
        {
          "output_type": "stream",
          "text": [
            "/usr/local/lib/python3.6/dist-packages/ipykernel_launcher.py:7: MatplotlibDeprecationWarning: Unrecognized location 'lpwer right'. Falling back on 'best'; valid locations are\n",
            "\tbest\n",
            "\tupper right\n",
            "\tupper left\n",
            "\tlower left\n",
            "\tlower right\n",
            "\tright\n",
            "\tcenter left\n",
            "\tcenter right\n",
            "\tlower center\n",
            "\tupper center\n",
            "\tcenter\n",
            "This will raise an exception in 3.3.\n",
            "  import sys\n"
          ],
          "name": "stderr"
        },
        {
          "output_type": "display_data",
          "data": {
            "image/png": "[encoded data removed]",
            "text/plain": [
              "<Figure size 1152x576 with 1 Axes>"
            ]
          },
          "metadata": {
            "tags": [],
            "needs_background": "light"
          }
        }
      ]
    },
    {
      "cell_type": "markdown",
      "metadata": {
        "id": "witsncyaovkc"
      },
      "source": [
        "Show the valid and predicted prices"
      ]
    },
    {
      "cell_type": "code",
      "metadata": {
        "colab": {
          "base_uri": "https://localhost:8080/",
          "height": 455
        },
        "id": "CzIKc5pVpADp",
        "outputId": "799a6624-6018-4930-a62e-aebe814cdae4"
      },
      "source": [
        "valid"
      ],
      "execution_count": null,
      "outputs": [
        {
          "output_type": "execute_result",
          "data": {
            "text/html": [
              "<div>\n",
              "<style scoped>\n",
              "    .dataframe tbody tr th:only-of-type {\n",
              "        vertical-align: middle;\n",
              "    }\n",
              "\n",
              "    .dataframe tbody tr th {\n",
              "        vertical-align: top;\n",
              "    }\n",
              "\n",
              "    .dataframe thead th {\n",
              "        text-align: right;\n",
              "    }\n",
              "</style>\n",
              "<table border=\"1\" class=\"dataframe\">\n",
              "  <thead>\n",
              "    <tr style=\"text-align: right;\">\n",
              "      <th></th>\n",
              "      <th>Close</th>\n",
              "      <th>Predictions</th>\n",
              "    </tr>\n",
              "    <tr>\n",
              "      <th>Date</th>\n",
              "      <th></th>\n",
              "      <th></th>\n",
              "    </tr>\n",
              "  </thead>\n",
              "  <tbody>\n",
              "    <tr>\n",
              "      <th>2018-05-17</th>\n",
              "      <td>46.747501</td>\n",
              "      <td>48.754795</td>\n",
              "    </tr>\n",
              "    <tr>\n",
              "      <th>2018-05-18</th>\n",
              "      <td>46.577499</td>\n",
              "      <td>48.797386</td>\n",
              "    </tr>\n",
              "    <tr>\n",
              "      <th>2018-05-21</th>\n",
              "      <td>46.907501</td>\n",
              "      <td>48.767117</td>\n",
              "    </tr>\n",
              "    <tr>\n",
              "      <th>2018-05-22</th>\n",
              "      <td>46.790001</td>\n",
              "      <td>48.747505</td>\n",
              "    </tr>\n",
              "    <tr>\n",
              "      <th>2018-05-23</th>\n",
              "      <td>47.090000</td>\n",
              "      <td>48.717533</td>\n",
              "    </tr>\n",
              "    <tr>\n",
              "      <th>...</th>\n",
              "      <td>...</td>\n",
              "      <td>...</td>\n",
              "    </tr>\n",
              "    <tr>\n",
              "      <th>2019-12-11</th>\n",
              "      <td>67.692497</td>\n",
              "      <td>69.168716</td>\n",
              "    </tr>\n",
              "    <tr>\n",
              "      <th>2019-12-12</th>\n",
              "      <td>67.864998</td>\n",
              "      <td>69.423004</td>\n",
              "    </tr>\n",
              "    <tr>\n",
              "      <th>2019-12-13</th>\n",
              "      <td>68.787498</td>\n",
              "      <td>69.694427</td>\n",
              "    </tr>\n",
              "    <tr>\n",
              "      <th>2019-12-16</th>\n",
              "      <td>69.964996</td>\n",
              "      <td>70.066978</td>\n",
              "    </tr>\n",
              "    <tr>\n",
              "      <th>2019-12-17</th>\n",
              "      <td>70.102501</td>\n",
              "      <td>70.597412</td>\n",
              "    </tr>\n",
              "  </tbody>\n",
              "</table>\n",
              "<p>400 rows × 2 columns</p>\n",
              "</div>"
            ],
            "text/plain": [
              "                Close  Predictions\n",
              "Date                              \n",
              "2018-05-17  46.747501    48.754795\n",
              "2018-05-18  46.577499    48.797386\n",
              "2018-05-21  46.907501    48.767117\n",
              "2018-05-22  46.790001    48.747505\n",
              "2018-05-23  47.090000    48.717533\n",
              "...               ...          ...\n",
              "2019-12-11  67.692497    69.168716\n",
              "2019-12-12  67.864998    69.423004\n",
              "2019-12-13  68.787498    69.694427\n",
              "2019-12-16  69.964996    70.066978\n",
              "2019-12-17  70.102501    70.597412\n",
              "\n",
              "[400 rows x 2 columns]"
            ]
          },
          "metadata": {
            "tags": []
          },
          "execution_count": 48
        }
      ]
    },
    {
      "cell_type": "code",
      "metadata": {
        "colab": {
          "base_uri": "https://localhost:8080/"
        },
        "id": "vKRCNErFpDmw",
        "outputId": "c8d362c8-c5a1-4f98-fa71-5b7eac6cb961"
      },
      "source": [
        "apple_quote = web.DataReader('AAPL', data_source='yahoo', start = '2012-01-01', end = '2019-12-17')\r\n",
        "\r\n",
        "new_df = apple_quote.filter(['Close'])\r\n",
        "last_60_days = new_df[-60:].values\r\n",
        "last_60_days_scaled = scaler.transform(last_60_days)\r\n",
        "X_test = []\r\n",
        "X_test.append(last_60_days_scaled)\r\n",
        "X_test = np.array(X_test)\r\n",
        "X_test = np.reshape(X_test, (X_test.shape[0], X_test.shape[1],1))\r\n",
        "pred_predic = model.predict(X_test)\r\n",
        "\r\n",
        "pred_predic = scaler.inverse_transform(pred_predic)\r\n",
        "print(pred_predic)"
      ],
      "execution_count": null,
      "outputs": [
        {
          "output_type": "stream",
          "text": [
            "[[71.146805]]\n"
          ],
          "name": "stdout"
        }
      ]
    },
    {
      "cell_type": "code",
      "metadata": {
        "colab": {
          "base_uri": "https://localhost:8080/"
        },
        "id": "ranBiqgfrmMI",
        "outputId": "afedff8a-7161-4c0e-9a71-44a8244f343c"
      },
      "source": [
        "apple_quote2 = web.DataReader('AAPL', data_source='yahoo', start = '2019-12-18', end = '2019-12-18')\r\n",
        "print(apple_quote2['Close'])"
      ],
      "execution_count": null,
      "outputs": [
        {
          "output_type": "stream",
          "text": [
            "Date\n",
            "2019-12-18    69.934998\n",
            "Name: Close, dtype: float64\n"
          ],
          "name": "stdout"
        }
      ]
    }
  ]
}